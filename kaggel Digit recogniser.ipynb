{
 "cells": [
  {
   "cell_type": "code",
   "execution_count": 6,
   "id": "5a93654e",
   "metadata": {},
   "outputs": [],
   "source": [
    "import tensorflow as tf\n",
    "from tensorflow import keras\n",
    "import matplotlib.pyplot as plt\n",
    "%matplotlib inline\n",
    "import numpy as np"
   ]
  },
  {
   "cell_type": "code",
   "execution_count": 7,
   "id": "9a8279fc",
   "metadata": {},
   "outputs": [],
   "source": [
    "import pandas as pd"
   ]
  },
  {
   "cell_type": "code",
   "execution_count": 8,
   "id": "1b163528",
   "metadata": {},
   "outputs": [],
   "source": [
    "df =pd.read_csv('train.csv')\n"
   ]
  },
  {
   "cell_type": "code",
   "execution_count": 9,
   "id": "ff485dc4",
   "metadata": {},
   "outputs": [
    {
     "data": {
      "text/plain": [
       "(42000, 785)"
      ]
     },
     "execution_count": 9,
     "metadata": {},
     "output_type": "execute_result"
    }
   ],
   "source": [
    "df.shape"
   ]
  },
  {
   "cell_type": "code",
   "execution_count": 10,
   "id": "bb92ef99",
   "metadata": {},
   "outputs": [],
   "source": [
    "y = df['label']\n",
    "x = df.drop('label', axis=1)"
   ]
  },
  {
   "cell_type": "code",
   "execution_count": 14,
   "id": "31c4883d",
   "metadata": {},
   "outputs": [],
   "source": [
    "xm = x.values.reshape((-1, 28, 28, 1))"
   ]
  },
  {
   "cell_type": "code",
   "execution_count": 20,
   "id": "63769582",
   "metadata": {},
   "outputs": [
    {
     "data": {
      "text/plain": [
       "(42000, 28, 28, 1)"
      ]
     },
     "execution_count": 20,
     "metadata": {},
     "output_type": "execute_result"
    }
   ],
   "source": [
    "xm.shape"
   ]
  },
  {
   "cell_type": "code",
   "execution_count": 23,
   "id": "629c3d36",
   "metadata": {},
   "outputs": [],
   "source": [
    "xt = xm/255"
   ]
  },
  {
   "cell_type": "code",
   "execution_count": 24,
   "id": "b2942dcd",
   "metadata": {},
   "outputs": [
    {
     "name": "stdout",
     "output_type": "stream",
     "text": [
      "Epoch 1/5\n",
      "1313/1313 [==============================] - 38s 6ms/step - loss: 0.3060 - accuracy: 0.9141\n",
      "Epoch 2/5\n",
      "1313/1313 [==============================] - 5s 4ms/step - loss: 0.1370 - accuracy: 0.9602\n",
      "Epoch 3/5\n",
      "1313/1313 [==============================] - 5s 4ms/step - loss: 0.0955 - accuracy: 0.9717\n",
      "Epoch 4/5\n",
      "1313/1313 [==============================] - 5s 4ms/step - loss: 0.0724 - accuracy: 0.9785\n",
      "Epoch 5/5\n",
      "1313/1313 [==============================] - 6s 4ms/step - loss: 0.0566 - accuracy: 0.9827\n"
     ]
    },
    {
     "data": {
      "text/plain": [
       "<keras.callbacks.History at 0x214b41dbca0>"
      ]
     },
     "execution_count": 24,
     "metadata": {},
     "output_type": "execute_result"
    }
   ],
   "source": [
    "model = keras.Sequential([\n",
    "    keras.layers.Flatten(input_shape=(28, 28)),\n",
    "    keras.layers.Dense(100, activation='relu'),\n",
    "    keras.layers.Dense(10, activation='sigmoid')\n",
    "])\n",
    "\n",
    "model.compile(optimizer='adam',\n",
    "              loss='sparse_categorical_crossentropy',\n",
    "              metrics=['accuracy'])\n",
    "\n",
    "model.fit(xt, y, epochs=5)"
   ]
  },
  {
   "cell_type": "code",
   "execution_count": 25,
   "id": "65a5bdd6",
   "metadata": {},
   "outputs": [],
   "source": [
    "test = pd.read_csv(\"test.csv\")"
   ]
  },
  {
   "cell_type": "code",
   "execution_count": 30,
   "id": "64b6c3ea",
   "metadata": {},
   "outputs": [],
   "source": [
    "test1 = test/255"
   ]
  },
  {
   "cell_type": "code",
   "execution_count": 33,
   "id": "b62c3ec3",
   "metadata": {},
   "outputs": [],
   "source": [
    "test2 = test1.values.reshape((-1, 28, 28, 1))"
   ]
  },
  {
   "cell_type": "code",
   "execution_count": 45,
   "id": "2cc524f6",
   "metadata": {},
   "outputs": [
    {
     "name": "stdout",
     "output_type": "stream",
     "text": [
      "875/875 [==============================] - 2s 2ms/step\n"
     ]
    }
   ],
   "source": [
    "pred = model.predict(test2)"
   ]
  },
  {
   "cell_type": "code",
   "execution_count": 47,
   "id": "0c0a3e6e",
   "metadata": {},
   "outputs": [],
   "source": [
    "submission = pd.read_csv('sample_submission.csv')\n",
    "submission['Label'] = np.argmax(pred, axis=1)\n",
    "submission.to_csv('submission.csv', index=False)"
   ]
  }
 ],
 "metadata": {
  "kernelspec": {
   "display_name": "Python 3 (ipykernel)",
   "language": "python",
   "name": "python3"
  },
  "language_info": {
   "codemirror_mode": {
    "name": "ipython",
    "version": 3
   },
   "file_extension": ".py",
   "mimetype": "text/x-python",
   "name": "python",
   "nbconvert_exporter": "python",
   "pygments_lexer": "ipython3",
   "version": "3.9.12"
  }
 },
 "nbformat": 4,
 "nbformat_minor": 5
}
